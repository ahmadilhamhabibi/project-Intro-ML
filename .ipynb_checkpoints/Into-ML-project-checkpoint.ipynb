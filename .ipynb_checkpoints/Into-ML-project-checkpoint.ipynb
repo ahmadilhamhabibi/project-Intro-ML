{
 "cells": [
  {
   "cell_type": "markdown",
   "id": "858a1057",
   "metadata": {},
   "source": [
    "# Linear regression\n",
    "\n",
    "Kita akan melihat hubungan antara usia dan menit bermain."
   ]
  },
  {
   "cell_type": "code",
   "execution_count": 1,
   "id": "a93257fb",
   "metadata": {},
   "outputs": [],
   "source": [
    "#importing necessary libraries\n",
    "import pandas as pd\n",
    "import numpy as np\n",
    "import matplotlib.pyplot as plt\n",
    "import statsmodels.formula.api as smf\n",
    "\n",
    "pd.set_option('display.max_rows', None)\n",
    "pd.set_option('display.max_columns', None)"
   ]
  },
  {
   "cell_type": "markdown",
   "id": "6aad1171",
   "metadata": {},
   "source": [
    "## Opening data\n",
    "Pada project kali ini kita akan menggunakan data Pemain La Liga tahun 2021-2022 dari [FBref](https://fbref.com/en/comps/12/2021-2022/stats/2021-2022-La-Liga-Stats).\n",
    "kali ini kita akan menggunakan kolom usia dan menit bermain aja.\n",
    "\n"
   ]
  },
  {
   "cell_type": "code",
   "execution_count": 2,
   "id": "8620597f",
   "metadata": {
    "scrolled": true
   },
   "outputs": [
    {
     "data": {
      "text/html": [
       "<div>\n",
       "<style scoped>\n",
       "    .dataframe tbody tr th:only-of-type {\n",
       "        vertical-align: middle;\n",
       "    }\n",
       "\n",
       "    .dataframe tbody tr th {\n",
       "        vertical-align: top;\n",
       "    }\n",
       "\n",
       "    .dataframe thead th {\n",
       "        text-align: right;\n",
       "    }\n",
       "</style>\n",
       "<table border=\"1\" class=\"dataframe\">\n",
       "  <thead>\n",
       "    <tr style=\"text-align: right;\">\n",
       "      <th></th>\n",
       "      <th>Rk</th>\n",
       "      <th>Player</th>\n",
       "      <th>Nation</th>\n",
       "      <th>Pos</th>\n",
       "      <th>Squad</th>\n",
       "      <th>Age</th>\n",
       "      <th>Born</th>\n",
       "      <th>MP</th>\n",
       "      <th>Starts</th>\n",
       "      <th>Min</th>\n",
       "      <th>90s</th>\n",
       "      <th>Gls</th>\n",
       "      <th>Ast</th>\n",
       "      <th>G-PK</th>\n",
       "      <th>PK</th>\n",
       "      <th>PKatt</th>\n",
       "      <th>CrdY</th>\n",
       "      <th>CrdR</th>\n",
       "      <th>Gls.1</th>\n",
       "      <th>Ast.1</th>\n",
       "      <th>G+A</th>\n",
       "      <th>G-PK.1</th>\n",
       "      <th>G+A-PK</th>\n",
       "      <th>xG</th>\n",
       "      <th>npxG</th>\n",
       "      <th>xA</th>\n",
       "      <th>npxG+xA</th>\n",
       "      <th>xG.1</th>\n",
       "      <th>xA.1</th>\n",
       "      <th>xG+xA</th>\n",
       "      <th>npxG.1</th>\n",
       "      <th>npxG+xA.1</th>\n",
       "      <th>Matches</th>\n",
       "      <th>-9999</th>\n",
       "    </tr>\n",
       "  </thead>\n",
       "  <tbody>\n",
       "    <tr>\n",
       "      <th>0</th>\n",
       "      <td>1</td>\n",
       "      <td>Luis Abram</td>\n",
       "      <td>pe PER</td>\n",
       "      <td>DF</td>\n",
       "      <td>Granada</td>\n",
       "      <td>25.0</td>\n",
       "      <td>1996.0</td>\n",
       "      <td>8</td>\n",
       "      <td>6</td>\n",
       "      <td>560</td>\n",
       "      <td>6.2</td>\n",
       "      <td>0</td>\n",
       "      <td>0</td>\n",
       "      <td>0</td>\n",
       "      <td>0</td>\n",
       "      <td>0</td>\n",
       "      <td>2</td>\n",
       "      <td>0</td>\n",
       "      <td>0.00</td>\n",
       "      <td>0.00</td>\n",
       "      <td>0.00</td>\n",
       "      <td>0.00</td>\n",
       "      <td>0.00</td>\n",
       "      <td>0.5</td>\n",
       "      <td>0.5</td>\n",
       "      <td>0.0</td>\n",
       "      <td>0.5</td>\n",
       "      <td>0.08</td>\n",
       "      <td>0.00</td>\n",
       "      <td>0.08</td>\n",
       "      <td>0.08</td>\n",
       "      <td>0.08</td>\n",
       "      <td>Matches</td>\n",
       "      <td>1f462f95</td>\n",
       "    </tr>\n",
       "    <tr>\n",
       "      <th>1</th>\n",
       "      <td>2</td>\n",
       "      <td>Marcos Acuña</td>\n",
       "      <td>ar ARG</td>\n",
       "      <td>DF</td>\n",
       "      <td>Sevilla</td>\n",
       "      <td>29.0</td>\n",
       "      <td>1991.0</td>\n",
       "      <td>31</td>\n",
       "      <td>26</td>\n",
       "      <td>2260</td>\n",
       "      <td>25.1</td>\n",
       "      <td>1</td>\n",
       "      <td>3</td>\n",
       "      <td>1</td>\n",
       "      <td>0</td>\n",
       "      <td>0</td>\n",
       "      <td>10</td>\n",
       "      <td>0</td>\n",
       "      <td>0.04</td>\n",
       "      <td>0.12</td>\n",
       "      <td>0.16</td>\n",
       "      <td>0.04</td>\n",
       "      <td>0.16</td>\n",
       "      <td>1.4</td>\n",
       "      <td>1.4</td>\n",
       "      <td>3.0</td>\n",
       "      <td>4.4</td>\n",
       "      <td>0.06</td>\n",
       "      <td>0.12</td>\n",
       "      <td>0.18</td>\n",
       "      <td>0.06</td>\n",
       "      <td>0.18</td>\n",
       "      <td>Matches</td>\n",
       "      <td>81442ecb</td>\n",
       "    </tr>\n",
       "    <tr>\n",
       "      <th>2</th>\n",
       "      <td>3</td>\n",
       "      <td>Martin Agirregabiria</td>\n",
       "      <td>es ESP</td>\n",
       "      <td>DF</td>\n",
       "      <td>Alavés</td>\n",
       "      <td>25.0</td>\n",
       "      <td>1996.0</td>\n",
       "      <td>24</td>\n",
       "      <td>17</td>\n",
       "      <td>1616</td>\n",
       "      <td>18.0</td>\n",
       "      <td>0</td>\n",
       "      <td>1</td>\n",
       "      <td>0</td>\n",
       "      <td>0</td>\n",
       "      <td>0</td>\n",
       "      <td>4</td>\n",
       "      <td>0</td>\n",
       "      <td>0.00</td>\n",
       "      <td>0.06</td>\n",
       "      <td>0.06</td>\n",
       "      <td>0.00</td>\n",
       "      <td>0.06</td>\n",
       "      <td>0.2</td>\n",
       "      <td>0.2</td>\n",
       "      <td>1.0</td>\n",
       "      <td>1.2</td>\n",
       "      <td>0.01</td>\n",
       "      <td>0.05</td>\n",
       "      <td>0.07</td>\n",
       "      <td>0.01</td>\n",
       "      <td>0.07</td>\n",
       "      <td>Matches</td>\n",
       "      <td>355c883a</td>\n",
       "    </tr>\n",
       "    <tr>\n",
       "      <th>3</th>\n",
       "      <td>4</td>\n",
       "      <td>Julen Agirrezabala</td>\n",
       "      <td>es ESP</td>\n",
       "      <td>GK</td>\n",
       "      <td>Athletic Club</td>\n",
       "      <td>20.0</td>\n",
       "      <td>2000.0</td>\n",
       "      <td>4</td>\n",
       "      <td>4</td>\n",
       "      <td>360</td>\n",
       "      <td>4.0</td>\n",
       "      <td>0</td>\n",
       "      <td>0</td>\n",
       "      <td>0</td>\n",
       "      <td>0</td>\n",
       "      <td>0</td>\n",
       "      <td>0</td>\n",
       "      <td>0</td>\n",
       "      <td>0.00</td>\n",
       "      <td>0.00</td>\n",
       "      <td>0.00</td>\n",
       "      <td>0.00</td>\n",
       "      <td>0.00</td>\n",
       "      <td>0.0</td>\n",
       "      <td>0.0</td>\n",
       "      <td>0.0</td>\n",
       "      <td>0.0</td>\n",
       "      <td>0.00</td>\n",
       "      <td>0.00</td>\n",
       "      <td>0.00</td>\n",
       "      <td>0.00</td>\n",
       "      <td>0.00</td>\n",
       "      <td>Matches</td>\n",
       "      <td>a2c1a8d3</td>\n",
       "    </tr>\n",
       "    <tr>\n",
       "      <th>4</th>\n",
       "      <td>5</td>\n",
       "      <td>Sergio Agüero</td>\n",
       "      <td>ar ARG</td>\n",
       "      <td>FW</td>\n",
       "      <td>Barcelona</td>\n",
       "      <td>33.0</td>\n",
       "      <td>1988.0</td>\n",
       "      <td>4</td>\n",
       "      <td>2</td>\n",
       "      <td>151</td>\n",
       "      <td>1.7</td>\n",
       "      <td>1</td>\n",
       "      <td>0</td>\n",
       "      <td>1</td>\n",
       "      <td>0</td>\n",
       "      <td>0</td>\n",
       "      <td>0</td>\n",
       "      <td>0</td>\n",
       "      <td>0.60</td>\n",
       "      <td>0.00</td>\n",
       "      <td>0.60</td>\n",
       "      <td>0.60</td>\n",
       "      <td>0.60</td>\n",
       "      <td>1.1</td>\n",
       "      <td>1.1</td>\n",
       "      <td>0.3</td>\n",
       "      <td>1.3</td>\n",
       "      <td>0.64</td>\n",
       "      <td>0.16</td>\n",
       "      <td>0.80</td>\n",
       "      <td>0.64</td>\n",
       "      <td>0.80</td>\n",
       "      <td>Matches</td>\n",
       "      <td>4d034881</td>\n",
       "    </tr>\n",
       "  </tbody>\n",
       "</table>\n",
       "</div>"
      ],
      "text/plain": [
       "   Rk                Player  Nation Pos          Squad   Age    Born  MP  \\\n",
       "0   1            Luis Abram  pe PER  DF        Granada  25.0  1996.0   8   \n",
       "1   2          Marcos Acuña  ar ARG  DF        Sevilla  29.0  1991.0  31   \n",
       "2   3  Martin Agirregabiria  es ESP  DF         Alavés  25.0  1996.0  24   \n",
       "3   4    Julen Agirrezabala  es ESP  GK  Athletic Club  20.0  2000.0   4   \n",
       "4   5         Sergio Agüero  ar ARG  FW      Barcelona  33.0  1988.0   4   \n",
       "\n",
       "   Starts   Min   90s  Gls  Ast  G-PK  PK  PKatt  CrdY  CrdR  Gls.1  Ast.1  \\\n",
       "0       6   560   6.2    0    0     0   0      0     2     0   0.00   0.00   \n",
       "1      26  2260  25.1    1    3     1   0      0    10     0   0.04   0.12   \n",
       "2      17  1616  18.0    0    1     0   0      0     4     0   0.00   0.06   \n",
       "3       4   360   4.0    0    0     0   0      0     0     0   0.00   0.00   \n",
       "4       2   151   1.7    1    0     1   0      0     0     0   0.60   0.00   \n",
       "\n",
       "    G+A  G-PK.1  G+A-PK   xG  npxG   xA  npxG+xA  xG.1  xA.1  xG+xA  npxG.1  \\\n",
       "0  0.00    0.00    0.00  0.5   0.5  0.0      0.5  0.08  0.00   0.08    0.08   \n",
       "1  0.16    0.04    0.16  1.4   1.4  3.0      4.4  0.06  0.12   0.18    0.06   \n",
       "2  0.06    0.00    0.06  0.2   0.2  1.0      1.2  0.01  0.05   0.07    0.01   \n",
       "3  0.00    0.00    0.00  0.0   0.0  0.0      0.0  0.00  0.00   0.00    0.00   \n",
       "4  0.60    0.60    0.60  1.1   1.1  0.3      1.3  0.64  0.16   0.80    0.64   \n",
       "\n",
       "   npxG+xA.1  Matches     -9999  \n",
       "0       0.08  Matches  1f462f95  \n",
       "1       0.18  Matches  81442ecb  \n",
       "2       0.07  Matches  355c883a  \n",
       "3       0.00  Matches  a2c1a8d3  \n",
       "4       0.80  Matches  4d034881  "
      ]
     },
     "execution_count": 2,
     "metadata": {},
     "output_type": "execute_result"
    }
   ],
   "source": [
    "data=pd.read_csv(\"playerstats.csv\",delimiter=',')\n",
    "data.head()"
   ]
  },
  {
   "cell_type": "code",
   "execution_count": 3,
   "id": "f889e417",
   "metadata": {},
   "outputs": [
    {
     "name": "stdout",
     "output_type": "stream",
     "text": [
      "<class 'pandas.core.frame.DataFrame'>\n",
      "RangeIndex: 617 entries, 0 to 616\n",
      "Data columns (total 34 columns):\n",
      " #   Column     Non-Null Count  Dtype  \n",
      "---  ------     --------------  -----  \n",
      " 0   Rk         617 non-null    int64  \n",
      " 1   Player     617 non-null    object \n",
      " 2   Nation     616 non-null    object \n",
      " 3   Pos        617 non-null    object \n",
      " 4   Squad      617 non-null    object \n",
      " 5   Age        616 non-null    float64\n",
      " 6   Born       616 non-null    float64\n",
      " 7   MP         617 non-null    int64  \n",
      " 8   Starts     617 non-null    int64  \n",
      " 9   Min        617 non-null    int64  \n",
      " 10  90s        617 non-null    float64\n",
      " 11  Gls        617 non-null    int64  \n",
      " 12  Ast        617 non-null    int64  \n",
      " 13  G-PK       617 non-null    int64  \n",
      " 14  PK         617 non-null    int64  \n",
      " 15  PKatt      617 non-null    int64  \n",
      " 16  CrdY       617 non-null    int64  \n",
      " 17  CrdR       617 non-null    int64  \n",
      " 18  Gls.1      617 non-null    float64\n",
      " 19  Ast.1      617 non-null    float64\n",
      " 20  G+A        617 non-null    float64\n",
      " 21  G-PK.1     617 non-null    float64\n",
      " 22  G+A-PK     617 non-null    float64\n",
      " 23  xG         617 non-null    float64\n",
      " 24  npxG       617 non-null    float64\n",
      " 25  xA         617 non-null    float64\n",
      " 26  npxG+xA    617 non-null    float64\n",
      " 27  xG.1       617 non-null    float64\n",
      " 28  xA.1       617 non-null    float64\n",
      " 29  xG+xA      617 non-null    float64\n",
      " 30  npxG.1     617 non-null    float64\n",
      " 31  npxG+xA.1  617 non-null    float64\n",
      " 32  Matches    617 non-null    object \n",
      " 33  -9999      617 non-null    object \n",
      "dtypes: float64(17), int64(11), object(6)\n",
      "memory usage: 164.0+ KB\n"
     ]
    },
    {
     "data": {
      "text/plain": [
       "None"
      ]
     },
     "metadata": {},
     "output_type": "display_data"
    }
   ],
   "source": [
    "from IPython.display import display\n",
    "display(data.info())"
   ]
  },
  {
   "cell_type": "markdown",
   "id": "a97a1a43",
   "metadata": {},
   "source": [
    "## EDA"
   ]
  },
  {
   "cell_type": "code",
   "execution_count": 4,
   "id": "10c34d79",
   "metadata": {},
   "outputs": [
    {
     "data": {
      "text/plain": [
       "count    616.000000\n",
       "mean      25.935065\n",
       "std        4.661101\n",
       "min       16.000000\n",
       "25%       22.000000\n",
       "50%       26.000000\n",
       "75%       29.000000\n",
       "max       40.000000\n",
       "Name: Age, dtype: float64"
      ]
     },
     "execution_count": 4,
     "metadata": {},
     "output_type": "execute_result"
    }
   ],
   "source": [
    "data.Age.describe()"
   ]
  },
  {
   "cell_type": "code",
   "execution_count": 5,
   "id": "c1b4cfa5",
   "metadata": {
    "scrolled": true
   },
   "outputs": [
    {
     "data": {
      "text/plain": [
       "Text(0, 0.5, 'Jumlah Pemain')"
      ]
     },
     "execution_count": 5,
     "metadata": {},
     "output_type": "execute_result"
    },
    {
     "data": {
      "image/png": "[encoded data removed]",
      "text/plain": [
       "<Figure size 864x432 with 1 Axes>"
      ]
     },
     "metadata": {
      "needs_background": "light"
     },
     "output_type": "display_data"
    }
   ],
   "source": [
    "plt.figure(figsize=(12, 6))\n",
    "plt.hist(data['Age'], bins=15, color='skyblue', edgecolor='black')\n",
    "plt.title('Distribusi Usia Pemain')\n",
    "plt.xlabel('Usia')\n",
    "plt.ylabel('Jumlah Pemain')\n",
    "#plt.savefig('age_dist.png')"
   ]
  },
  {
   "cell_type": "code",
   "execution_count": 6,
   "id": "67879106",
   "metadata": {},
   "outputs": [
    {
     "data": {
      "text/plain": [
       "count     617.000000\n",
       "mean     1217.071313\n",
       "std       962.549041\n",
       "min         1.000000\n",
       "25%       295.000000\n",
       "50%      1105.000000\n",
       "75%      1890.000000\n",
       "max      3420.000000\n",
       "Name: Min, dtype: float64"
      ]
     },
     "execution_count": 6,
     "metadata": {},
     "output_type": "execute_result"
    }
   ],
   "source": [
    "data.Min.describe()"
   ]
  },
  {
   "cell_type": "code",
   "execution_count": 7,
   "id": "b47b41c9",
   "metadata": {},
   "outputs": [
    {
     "data": {
      "text/plain": [
       "Text(0, 0.5, 'Jumlah Pemain')"
      ]
     },
     "execution_count": 7,
     "metadata": {},
     "output_type": "execute_result"
    },
    {
     "data": {
      "image/png": "[encoded data removed]",
      "text/plain": [
       "<Figure size 864x432 with 1 Axes>"
      ]
     },
     "metadata": {
      "needs_background": "light"
     },
     "output_type": "display_data"
    }
   ],
   "source": [
    "# Membuat bar chart distribusi menit bermain\n",
    "plt.figure(figsize=(12, 6))\n",
    "plt.hist(data['Min'], bins=15, color='lightcoral', edgecolor='black')\n",
    "plt.title('Distribusi Menit Bermain Pemain')\n",
    "plt.xlabel('Menit Bermain')\n",
    "plt.ylabel('Jumlah Pemain')\n",
    "#plt.savefig('min_dist.png')"
   ]
  },
  {
   "cell_type": "code",
   "execution_count": 8,
   "id": "75c57c00",
   "metadata": {},
   "outputs": [
    {
     "data": {
      "image/png": "[encoded data removed]",
      "text/plain": [
       "<Figure size 720x432 with 1 Axes>"
      ]
     },
     "metadata": {
      "needs_background": "light"
     },
     "output_type": "display_data"
    }
   ],
   "source": [
    "plt.figure(figsize=(10, 6))\n",
    "plt.scatter(data.Age, data.Min, alpha=0.5)\n",
    "plt.title('Scatter Plot antara Age dan Minutes Played')\n",
    "plt.xlabel('Age')\n",
    "plt.ylabel('Minutes Played')\n",
    "plt.grid(True)\n",
    "#plt.savefig('scatter.png')"
   ]
  },
  {
   "cell_type": "markdown",
   "id": "bcd42f5a",
   "metadata": {},
   "source": [
    "## Fitting the model\n",
    "We are going to begin by doing a  straight line linear regression\n",
    "A straight line relationship between minutes played and age."
   ]
  },
  {
   "cell_type": "code",
   "execution_count": 9,
   "id": "2e188f7b",
   "metadata": {
    "scrolled": true
   },
   "outputs": [
    {
     "name": "stdout",
     "output_type": "stream",
     "text": [
      "                            OLS Regression Results                            \n",
      "==============================================================================\n",
      "Dep. Variable:                    Min   R-squared:                       0.107\n",
      "Model:                            OLS   Adj. R-squared:                  0.106\n",
      "Method:                 Least Squares   F-statistic:                     73.92\n",
      "Date:                Thu, 02 Nov 2023   Prob (F-statistic):           6.77e-17\n",
      "Time:                        16:24:53   Log-Likelihood:                -5070.1\n",
      "No. Observations:                 616   AIC:                         1.014e+04\n",
      "Df Residuals:                     614   BIC:                         1.015e+04\n",
      "Df Model:                           1                                         \n",
      "Covariance Type:            nonrobust                                         \n",
      "==============================================================================\n",
      "                 coef    std err          t      P>|t|      [0.025      0.975]\n",
      "------------------------------------------------------------------------------\n",
      "Intercept   -536.3642    207.420     -2.586      0.010    -943.702    -129.026\n",
      "Age           67.6766      7.872      8.597      0.000      52.218      83.135\n",
      "==============================================================================\n",
      "Omnibus:                       52.017   Durbin-Watson:                   2.069\n",
      "Prob(Omnibus):                  0.000   Jarque-Bera (JB):               39.225\n",
      "Skew:                           0.518   Prob(JB):                     3.04e-09\n",
      "Kurtosis:                       2.326   Cond. No.                         149.\n",
      "==============================================================================\n",
      "\n",
      "Notes:\n",
      "[1] Standard Errors assume that the covariance matrix of the errors is correctly specified.\n"
     ]
    }
   ],
   "source": [
    "model_fit=smf.ols(formula='Min  ~ Age', data=data).fit()\n",
    "print(model_fit.summary())        \n",
    "b=model_fit.params"
   ]
  },
  {
   "cell_type": "markdown",
   "id": "261d564c",
   "metadata": {},
   "source": [
    "Comparing the fit \n",
    " ----------------------------\n",
    "We now use the fit to plot a line through the data.\n",
    "where the parameters are estimated from the model fit.\n",
    "\n"
   ]
  },
  {
   "cell_type": "code",
   "execution_count": 10,
   "id": "529aba7a",
   "metadata": {},
   "outputs": [
    {
     "data": {
      "image/png": "[encoded data removed]",
      "text/plain": [
       "<Figure size 432x288 with 1 Axes>"
      ]
     },
     "metadata": {
      "needs_background": "light"
     },
     "output_type": "display_data"
    }
   ],
   "source": [
    "#First plot the data as previously\n",
    "fig,ax=plt.subplots(num=1)\n",
    "ax.plot(data['Age'], data['Min'], linestyle='none', marker= '.', markersize= 10, color='blue')\n",
    "ax.set_ylabel('Minutes played')\n",
    "ax.set_xlabel('Age')\n",
    "ax.spines['top'].set_visible(False)\n",
    "ax.spines['right'].set_visible(False)\n",
    "plt.xlim((15,40))\n",
    "plt.ylim((0,3000))\n",
    "\n",
    "#Now create the line through the data\n",
    "x=np.arange(40,step=1)\n",
    "y= b[0] + b[1]*x\n",
    "ax.plot(x, y, color='black')\n",
    "\n",
    "#Show distances to line for each point\n",
    "for i,a in enumerate(data['Age']):\n",
    "    ax.plot([a,a],[data['Min'][i], b[0] + b[1]*a ], color='red')\n",
    "#plt.savefig('fit_model_age.png')\n",
    "plt.show()"
   ]
  },
  {
   "cell_type": "markdown",
   "id": "68268ef7",
   "metadata": {},
   "source": [
    "## Including Quadratic Age"
   ]
  },
  {
   "cell_type": "code",
   "execution_count": 11,
   "id": "0d8c7218",
   "metadata": {},
   "outputs": [
    {
     "name": "stderr",
     "output_type": "stream",
     "text": [
      "<ipython-input-11-bba1067177d6>:2: SettingWithCopyWarning: \n",
      "A value is trying to be set on a copy of a slice from a DataFrame.\n",
      "Try using .loc[row_indexer,col_indexer] = value instead\n",
      "\n",
      "See the caveats in the documentation: https://pandas.pydata.org/pandas-docs/stable/user_guide/indexing.html#returning-a-view-versus-a-copy\n",
      "  data['Age_squared'] = np.power(data['Age'],2)\n",
      "<ipython-input-11-bba1067177d6>:3: SettingWithCopyWarning: \n",
      "A value is trying to be set on a copy of a slice from a DataFrame.\n",
      "Try using .loc[row_indexer,col_indexer] = value instead\n",
      "\n",
      "See the caveats in the documentation: https://pandas.pydata.org/pandas-docs/stable/user_guide/indexing.html#returning-a-view-versus-a-copy\n",
      "  data['Age_cubed'] = np.power(data['Age'],3)\n"
     ]
    },
    {
     "data": {
      "text/html": [
       "<div>\n",
       "<style scoped>\n",
       "    .dataframe tbody tr th:only-of-type {\n",
       "        vertical-align: middle;\n",
       "    }\n",
       "\n",
       "    .dataframe tbody tr th {\n",
       "        vertical-align: top;\n",
       "    }\n",
       "\n",
       "    .dataframe thead th {\n",
       "        text-align: right;\n",
       "    }\n",
       "</style>\n",
       "<table border=\"1\" class=\"dataframe\">\n",
       "  <thead>\n",
       "    <tr style=\"text-align: right;\">\n",
       "      <th></th>\n",
       "      <th>Min</th>\n",
       "      <th>Age</th>\n",
       "      <th>Age_squared</th>\n",
       "      <th>Age_cubed</th>\n",
       "    </tr>\n",
       "  </thead>\n",
       "  <tbody>\n",
       "    <tr>\n",
       "      <th>0</th>\n",
       "      <td>560</td>\n",
       "      <td>25.0</td>\n",
       "      <td>625.0</td>\n",
       "      <td>15625.0</td>\n",
       "    </tr>\n",
       "    <tr>\n",
       "      <th>1</th>\n",
       "      <td>2260</td>\n",
       "      <td>29.0</td>\n",
       "      <td>841.0</td>\n",
       "      <td>24389.0</td>\n",
       "    </tr>\n",
       "    <tr>\n",
       "      <th>2</th>\n",
       "      <td>1616</td>\n",
       "      <td>25.0</td>\n",
       "      <td>625.0</td>\n",
       "      <td>15625.0</td>\n",
       "    </tr>\n",
       "    <tr>\n",
       "      <th>3</th>\n",
       "      <td>360</td>\n",
       "      <td>20.0</td>\n",
       "      <td>400.0</td>\n",
       "      <td>8000.0</td>\n",
       "    </tr>\n",
       "    <tr>\n",
       "      <th>4</th>\n",
       "      <td>151</td>\n",
       "      <td>33.0</td>\n",
       "      <td>1089.0</td>\n",
       "      <td>35937.0</td>\n",
       "    </tr>\n",
       "  </tbody>\n",
       "</table>\n",
       "</div>"
      ],
      "text/plain": [
       "    Min   Age  Age_squared  Age_cubed\n",
       "0   560  25.0        625.0    15625.0\n",
       "1  2260  29.0        841.0    24389.0\n",
       "2  1616  25.0        625.0    15625.0\n",
       "3   360  20.0        400.0     8000.0\n",
       "4   151  33.0       1089.0    35937.0"
      ]
     },
     "execution_count": 11,
     "metadata": {},
     "output_type": "execute_result"
    }
   ],
   "source": [
    "data = data[[\"Min\", \"Age\"]]\n",
    "data['Age_squared'] = np.power(data['Age'],2)\n",
    "data['Age_cubed'] = np.power(data['Age'],3)\n",
    "data.head()"
   ]
  },
  {
   "cell_type": "code",
   "execution_count": 12,
   "id": "b9e8c0ec",
   "metadata": {},
   "outputs": [
    {
     "name": "stdout",
     "output_type": "stream",
     "text": [
      "                            OLS Regression Results                            \n",
      "==============================================================================\n",
      "Dep. Variable:                    Min   R-squared:                       0.143\n",
      "Model:                            OLS   Adj. R-squared:                  0.141\n",
      "Method:                 Least Squares   F-statistic:                     51.35\n",
      "Date:                Thu, 02 Nov 2023   Prob (F-statistic):           2.41e-21\n",
      "Time:                        16:24:55   Log-Likelihood:                -5057.4\n",
      "No. Observations:                 616   AIC:                         1.012e+04\n",
      "Df Residuals:                     613   BIC:                         1.013e+04\n",
      "Df Model:                           2                                         \n",
      "Covariance Type:            nonrobust                                         \n",
      "===============================================================================\n",
      "                  coef    std err          t      P>|t|      [0.025      0.975]\n",
      "-------------------------------------------------------------------------------\n",
      "Intercept   -5255.8833    951.226     -5.525      0.000   -7123.940   -3387.827\n",
      "Age           439.4301     73.601      5.970      0.000     294.889     583.971\n",
      "Age_squared    -7.0889      1.396     -5.079      0.000      -9.830      -4.348\n",
      "==============================================================================\n",
      "Omnibus:                       42.621   Durbin-Watson:                   2.030\n",
      "Prob(Omnibus):                  0.000   Jarque-Bera (JB):               31.035\n",
      "Skew:                           0.444   Prob(JB):                     1.82e-07\n",
      "Kurtosis:                       2.352   Cond. No.                     1.96e+04\n",
      "==============================================================================\n",
      "\n",
      "Notes:\n",
      "[1] Standard Errors assume that the covariance matrix of the errors is correctly specified.\n",
      "[2] The condition number is large, 1.96e+04. This might indicate that there are\n",
      "strong multicollinearity or other numerical problems.\n"
     ]
    },
    {
     "data": {
      "image/png": "[encoded data removed]",
      "text/plain": [
       "<Figure size 432x288 with 1 Axes>"
      ]
     },
     "metadata": {
      "needs_background": "light"
     },
     "output_type": "display_data"
    }
   ],
   "source": [
    "model_fit=smf.ols(formula='Min  ~ Age + Age_squared', data=data).fit()\n",
    "print(model_fit.summary())        \n",
    "b=model_fit.params\n",
    "\n",
    "#First plot the data as previously\n",
    "fig,ax=plt.subplots(num=1)\n",
    "ax.plot(data['Age'], data['Min'], linestyle='none', marker= '.', markersize= 10, color='blue')\n",
    "ax.set_ylabel('Minutes played')\n",
    "ax.set_xlabel('Age')\n",
    "ax.spines['top'].set_visible(False)\n",
    "ax.spines['right'].set_visible(False)\n",
    "plt.xlim((15,40))\n",
    "plt.ylim((0,3000))\n",
    "\n",
    "#Now create the line through the data\n",
    "x=np.arange(40,step=1)\n",
    "y= b[0] + b[1]*x + b[2]*x*x\n",
    "ax.plot(x, y, color='black')\n",
    "\n",
    "#Show distances to line for each point\n",
    "for i,a in enumerate(data['Age']):\n",
    "    ax.plot([a,a],[data['Min'][i], b[0] + b[1]*a + b[2]*a*a], color='red')\n",
    "#plt.savefig('fit_model_age2.png')\n",
    "plt.show()"
   ]
  },
  {
   "cell_type": "code",
   "execution_count": null,
   "id": "62848395",
   "metadata": {},
   "outputs": [],
   "source": []
  },
  {
   "cell_type": "code",
   "execution_count": 13,
   "id": "bedacf7b",
   "metadata": {},
   "outputs": [
    {
     "name": "stdout",
     "output_type": "stream",
     "text": [
      "                            OLS Regression Results                            \n",
      "==============================================================================\n",
      "Dep. Variable:                    Min   R-squared:                       0.146\n",
      "Model:                            OLS   Adj. R-squared:                  0.142\n",
      "Method:                 Least Squares   F-statistic:                     34.82\n",
      "Date:                Thu, 02 Nov 2023   Prob (F-statistic):           8.73e-21\n",
      "Time:                        16:24:56   Log-Likelihood:                -5056.6\n",
      "No. Observations:                 616   AIC:                         1.012e+04\n",
      "Df Residuals:                     612   BIC:                         1.014e+04\n",
      "Df Model:                           3                                         \n",
      "Covariance Type:            nonrobust                                         \n",
      "===============================================================================\n",
      "                  coef    std err          t      P>|t|      [0.025      0.975]\n",
      "-------------------------------------------------------------------------------\n",
      "Intercept   -1.024e+04   4002.240     -2.559      0.011   -1.81e+04   -2381.992\n",
      "Age          1024.9560    462.443      2.216      0.027     116.788    1933.124\n",
      "Age_squared   -29.3989     17.452     -1.685      0.093     -63.671       4.874\n",
      "Age_cubed       0.2763      0.215      1.282      0.200      -0.147       0.700\n",
      "==============================================================================\n",
      "Omnibus:                       44.224   Durbin-Watson:                   2.024\n",
      "Prob(Omnibus):                  0.000   Jarque-Bera (JB):               31.011\n",
      "Skew:                           0.437   Prob(JB):                     1.84e-07\n",
      "Kurtosis:                       2.334   Cond. No.                     2.43e+06\n",
      "==============================================================================\n",
      "\n",
      "Notes:\n",
      "[1] Standard Errors assume that the covariance matrix of the errors is correctly specified.\n",
      "[2] The condition number is large, 2.43e+06. This might indicate that there are\n",
      "strong multicollinearity or other numerical problems.\n"
     ]
    },
    {
     "data": {
      "image/png": "[encoded data removed]",
      "text/plain": [
       "<Figure size 432x288 with 1 Axes>"
      ]
     },
     "metadata": {
      "needs_background": "light"
     },
     "output_type": "display_data"
    }
   ],
   "source": [
    "model_fit=smf.ols(formula='Min  ~ Age + Age_squared + Age_cubed', data=data).fit()\n",
    "print(model_fit.summary())        \n",
    "b=model_fit.params\n",
    "\n",
    "#First plot the data as previously\n",
    "fig,ax=plt.subplots(num=1)\n",
    "ax.plot(data['Age'], data['Min'], linestyle='none', marker= '.', markersize= 10, color='blue')\n",
    "ax.set_ylabel('Minutes played')\n",
    "ax.set_xlabel('Age')\n",
    "ax.spines['top'].set_visible(False)\n",
    "ax.spines['right'].set_visible(False)\n",
    "plt.xlim((15,40))\n",
    "plt.ylim((0,3000))\n",
    "\n",
    "#Now create the line through the data\n",
    "x=np.arange(40,step=1)\n",
    "y= b[0] + b[1]*x + b[2]*x*x + b[3]*x*x*x\n",
    "ax.plot(x, y, color='black')\n",
    "\n",
    "#Show distances to line for each point\n",
    "for i,a in enumerate(data['Age']):\n",
    "    ax.plot([a,a],[data['Min'][i], b[0] + b[1]*a + b[2]*a*a + b[3]*a*a*a], color='red')\n",
    "#plt.savefig('fit_model_age3.png')\n",
    "plt.show()"
   ]
  },
  {
   "cell_type": "code",
   "execution_count": null,
   "id": "e4a7461a",
   "metadata": {},
   "outputs": [],
   "source": []
  }
 ],
 "metadata": {
  "kernelspec": {
   "display_name": "Python 3",
   "language": "python",
   "name": "python3"
  },
  "language_info": {
   "codemirror_mode": {
    "name": "ipython",
    "version": 3
   },
   "file_extension": ".py",
   "mimetype": "text/x-python",
   "name": "python",
   "nbconvert_exporter": "python",
   "pygments_lexer": "ipython3",
   "version": "3.8.8"
  }
 },
 "nbformat": 4,
 "nbformat_minor": 5
}
